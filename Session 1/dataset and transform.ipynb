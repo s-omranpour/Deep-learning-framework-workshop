{
 "cells": [
  {
   "cell_type": "markdown",
   "metadata": {},
   "source": [
    "## Readings:\n",
    "\n",
    "mastering dataset:\n",
    " - https://pytorch.org/tutorials/beginner/data_loading_tutorial.html\n",
    " - https://pytorch.org/docs/stable/data.html\n",
    " \n",
    "torch datasets:\n",
    " - https://pytorch.org/docs/stable/torchvision/datasets.html\n",
    " - https://pytorch.org/audio/datasets.html\n",
    " \n",
    "transforms:\n",
    " - https://pytorch.org/docs/stable/torchvision/transforms.html\n",
    " - https://pytorch.org/audio/transforms.html"
   ]
  },
  {
   "cell_type": "markdown",
   "metadata": {},
   "source": [
    "## loading packages"
   ]
  },
  {
   "cell_type": "code",
   "execution_count": 3,
   "metadata": {},
   "outputs": [],
   "source": [
    "import torch\n",
    "from torch.utils.data import Dataset, DataLoader, random_split\n",
    "from torchvision import transforms as vt\n",
    "from torchaudio import transforms as at\n",
    "import numpy as np"
   ]
  },
  {
   "cell_type": "markdown",
   "metadata": {},
   "source": [
    "## defining dataset"
   ]
  },
  {
   "cell_type": "code",
   "execution_count": 4,
   "metadata": {},
   "outputs": [],
   "source": [
    "class CustomDataset(Dataset):\n",
    "    def __init__(self,):\n",
    "        super(CustomDataset, self).__init__()        ## define dataset attributes here\n",
    "        self.X = np.random.normal(size=(10,4))\n",
    "        self.y = np.random.randint(0,2, size=(10))\n",
    "        \n",
    "        \n",
    "    def __len__(self):          ## length of dataset, number of elements\n",
    "        return self.X.shape[0]\n",
    "    \n",
    "    def __getitem__(self, idx):       ## getting an item at specific index\n",
    "        if torch.is_tensor(idx):\n",
    "            idx = idx.tolist()\n",
    "        return self.X[idx] , self.y[idx]"
   ]
  },
  {
   "cell_type": "code",
   "execution_count": 5,
   "metadata": {},
   "outputs": [],
   "source": [
    "dataset = CustomDataset()"
   ]
  },
  {
   "cell_type": "code",
   "execution_count": 6,
   "metadata": {},
   "outputs": [
    {
     "name": "stdout",
     "output_type": "stream",
     "text": [
      "2 10\n"
     ]
    }
   ],
   "source": [
    "n = len(dataset)\n",
    "t = int(0.2*n)\n",
    "print(t,n)"
   ]
  },
  {
   "cell_type": "code",
   "execution_count": 7,
   "metadata": {},
   "outputs": [
    {
     "name": "stdout",
     "output_type": "stream",
     "text": [
      "train: 8 test: 2\n"
     ]
    }
   ],
   "source": [
    "train_data, test_data = random_split(dataset, [n-t, t])\n",
    "print('train:',len(train_data), 'test:', len(test_data))"
   ]
  },
  {
   "cell_type": "code",
   "execution_count": 8,
   "metadata": {},
   "outputs": [
    {
     "data": {
      "text/plain": [
       "(array([ 0.40196957, -2.00037414, -0.04192366, -0.08493043]), 0)"
      ]
     },
     "execution_count": 8,
     "metadata": {},
     "output_type": "execute_result"
    }
   ],
   "source": [
    "dataset[0]"
   ]
  },
  {
   "cell_type": "code",
   "execution_count": 12,
   "metadata": {},
   "outputs": [
    {
     "data": {
      "text/plain": [
       "'For data loading, passing pin_memory=True to a DataLoader will automatically\\nput the fetched data Tensors in pinned memory, \\nand thus enables faster data transfer to CUDA-enabled GPUs.'"
      ]
     },
     "execution_count": 12,
     "metadata": {},
     "output_type": "execute_result"
    }
   ],
   "source": [
    "loader = DataLoader(train_data, batch_size=2, shuffle=True)\n",
    "\n",
    "'''For data loading, passing pin_memory=True to a DataLoader will automatically\n",
    "put the fetched data Tensors in pinned memory, \n",
    "and thus enables faster data transfer to CUDA-enabled GPUs.'''"
   ]
  },
  {
   "cell_type": "code",
   "execution_count": 13,
   "metadata": {},
   "outputs": [
    {
     "name": "stdout",
     "output_type": "stream",
     "text": [
      "torch.Size([2, 4]) torch.Size([2])\n",
      "torch.Size([2, 4]) torch.Size([2])\n",
      "torch.Size([2, 4]) torch.Size([2])\n",
      "torch.Size([2, 4]) torch.Size([2])\n"
     ]
    }
   ],
   "source": [
    "for batch in loader:\n",
    "    x,y = batch\n",
    "    print(x.shape, y.shape)"
   ]
  },
  {
   "cell_type": "markdown",
   "metadata": {},
   "source": [
    "## transforms"
   ]
  },
  {
   "cell_type": "code",
   "execution_count": null,
   "metadata": {},
   "outputs": [],
   "source": [
    "final_transform = vt.Compose([\n",
    "         transforms.CenterCrop(10),\n",
    "         transforms.ToTensor(),\n",
    "])"
   ]
  }
 ],
 "metadata": {
  "kernelspec": {
   "display_name": "Python 3",
   "language": "python",
   "name": "python3"
  },
  "language_info": {
   "codemirror_mode": {
    "name": "ipython",
    "version": 3
   },
   "file_extension": ".py",
   "mimetype": "text/x-python",
   "name": "python",
   "nbconvert_exporter": "python",
   "pygments_lexer": "ipython3",
   "version": "3.7.4"
  }
 },
 "nbformat": 4,
 "nbformat_minor": 2
}
