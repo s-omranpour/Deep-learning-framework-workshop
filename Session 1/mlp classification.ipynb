{
 "cells": [
  {
   "cell_type": "markdown",
   "metadata": {},
   "source": [
    "## Readings\n",
    "\n",
    "modules, losses, activations, etc. :\n",
    " - https://pytorch.org/docs/stable/nn.html\n",
    " \n",
    "optimizers and schedulers:\n",
    " - https://pytorch.org/docs/stable/optim.html\n",
    " \n",
    "examples:\n",
    " - https://github.com/pytorch/examples/blob/master/vae/main.py\n",
    " - https://github.com/pytorch/examples/blob/master/mnist/main.py"
   ]
  },
  {
   "cell_type": "code",
   "execution_count": 7,
   "metadata": {},
   "outputs": [],
   "source": [
    "from importlib import reload\n",
    "\n",
    "import torch\n",
    "from torch import nn\n",
    "from torch import optim\n",
    "from torch.utils.data import random_split, DataLoader\n",
    "from torchvision.datasets import MNIST\n",
    "from torchvision.transforms import ToTensor, Compose\n",
    "\n",
    "from Models.mlp_classifier import Classifier\n",
    "import utils"
   ]
  },
  {
   "cell_type": "markdown",
   "metadata": {},
   "source": [
    "## Model"
   ]
  },
  {
   "cell_type": "code",
   "execution_count": 18,
   "metadata": {},
   "outputs": [
    {
     "name": "stdout",
     "output_type": "stream",
     "text": [
      "Classifier(\n",
      "  (net): Sequential(\n",
      "    (0): Linear(in_features=784, out_features=100, bias=True)\n",
      "    (1): BatchNorm1d(100, eps=1e-05, momentum=0.1, affine=True, track_running_stats=True)\n",
      "    (2): ReLU()\n",
      "    (3): Linear(in_features=100, out_features=50, bias=True)\n",
      "    (4): BatchNorm1d(50, eps=1e-05, momentum=0.1, affine=True, track_running_stats=True)\n",
      "    (5): ReLU()\n",
      "    (6): Linear(in_features=50, out_features=10, bias=True)\n",
      "    (7): BatchNorm1d(10, eps=1e-05, momentum=0.1, affine=True, track_running_stats=True)\n",
      "    (8): Softmax(dim=None)\n",
      "  )\n",
      ")\n"
     ]
    }
   ],
   "source": [
    "import Models.mlp_classifier\n",
    "reload(Models.mlp_classifier)\n",
    "from Models.mlp_classifier import Classifier\n",
    "\n",
    "cls = Classifier(input_size=784, num_classes=10, hidden_layers=[100,50])\n",
    "print(cls)\n",
    "# cls.cuda()"
   ]
  },
  {
   "cell_type": "code",
   "execution_count": 19,
   "metadata": {},
   "outputs": [
    {
     "data": {
      "text/plain": [
       "84380"
      ]
     },
     "execution_count": 19,
     "metadata": {},
     "output_type": "execute_result"
    }
   ],
   "source": [
    "utils.get_n_params(cls)"
   ]
  },
  {
   "cell_type": "markdown",
   "metadata": {},
   "source": [
    "## Dataset"
   ]
  },
  {
   "cell_type": "code",
   "execution_count": 27,
   "metadata": {},
   "outputs": [],
   "source": [
    "class Flatten(object):\n",
    "\n",
    "    def __call__(self, sample):\n",
    "        return sample.view(-1)\n",
    "    \n",
    "final_transform = Compose([ToTensor(), Flatten()])"
   ]
  },
  {
   "cell_type": "code",
   "execution_count": 28,
   "metadata": {},
   "outputs": [
    {
     "data": {
      "text/plain": [
       "10000"
      ]
     },
     "execution_count": 28,
     "metadata": {},
     "output_type": "execute_result"
    }
   ],
   "source": [
    "mnist = MNIST(root='data', train=False, transform=final_transform, download=True)\n",
    "len(mnist)"
   ]
  },
  {
   "cell_type": "code",
   "execution_count": 29,
   "metadata": {},
   "outputs": [
    {
     "data": {
      "text/plain": [
       "(7000, 3000)"
      ]
     },
     "execution_count": 29,
     "metadata": {},
     "output_type": "execute_result"
    }
   ],
   "source": [
    "train_data, test_data = random_split(mnist, [7000,3000])\n",
    "len(train_data), len(test_data)"
   ]
  },
  {
   "cell_type": "code",
   "execution_count": 30,
   "metadata": {},
   "outputs": [],
   "source": [
    "train_loader = DataLoader(train_data, batch_size=64, shuffle=True)\n",
    "test_loader = DataLoader(test_data, batch_size=64, shuffle=True)"
   ]
  },
  {
   "cell_type": "markdown",
   "metadata": {},
   "source": [
    "## Training"
   ]
  },
  {
   "cell_type": "code",
   "execution_count": 31,
   "metadata": {},
   "outputs": [],
   "source": [
    "optimizer = optim.Adam(cls.parameters(), lr=1e-4)\n",
    "criterion = nn.CrossEntropyLoss()"
   ]
  },
  {
   "cell_type": "code",
   "execution_count": 33,
   "metadata": {},
   "outputs": [
    {
     "data": {
      "application/vnd.jupyter.widget-view+json": {
       "model_id": "2c530ab6731b477e81b63a633bbfd097",
       "version_major": 2,
       "version_minor": 0
      },
      "text/plain": [
       "HBox(children=(FloatProgress(value=0.0, max=10.0), HTML(value='')))"
      ]
     },
     "metadata": {},
     "output_type": "display_data"
    },
    {
     "name": "stdout",
     "output_type": "stream",
     "text": [
      "1 train_loss:1.8788471351970326 train_acc:0.7916666666666666\n",
      "val_loss:1.862539139199764 val_acc:0.8928571428571429\n",
      "\n",
      "2 train_loss:1.8368669336492365 train_acc:0.875\n",
      "val_loss:1.830928457544205 val_acc:0.875\n",
      "\n",
      "3 train_loss:1.8131488940932534 train_acc:0.7916666666666666\n",
      "val_loss:1.8110796390695776 val_acc:0.8214285714285714\n",
      "\n",
      "4 train_loss:1.7945027882402593 train_acc:0.875\n",
      "val_loss:1.8034629365231127 val_acc:0.9285714285714286\n",
      "\n",
      "5 train_loss:1.781535104188052 train_acc:0.8333333333333334\n",
      "val_loss:1.7884985157783995 val_acc:0.9107142857142857\n",
      "\n",
      "6 train_loss:1.770592923597856 train_acc:0.7916666666666666\n",
      "val_loss:1.7763321830871257 val_acc:0.9107142857142857\n",
      "\n",
      "7 train_loss:1.7584263649853793 train_acc:0.9166666666666666\n",
      "val_loss:1.7726412225276866 val_acc:0.9285714285714286\n",
      "\n",
      "8 train_loss:1.7478667183355852 train_acc:0.7916666666666666\n",
      "val_loss:1.7628133626694376 val_acc:0.9107142857142857\n",
      "\n",
      "9 train_loss:1.7399583621458574 train_acc:0.9166666666666666\n",
      "val_loss:1.7565453356884895 val_acc:0.9107142857142857\n",
      "\n",
      "10 train_loss:1.7325362378900702 train_acc:0.9583333333333334\n",
      "val_loss:1.7521804774061163 val_acc:0.9464285714285714\n",
      "\n",
      "\n"
     ]
    }
   ],
   "source": [
    "reload(utils)\n",
    "\n",
    "utils.train(cls, train_loader, test_loader, criterion, optimizer, device='cpu', epochs=10, verbose=1)"
   ]
  },
  {
   "cell_type": "code",
   "execution_count": null,
   "metadata": {},
   "outputs": [],
   "source": []
  }
 ],
 "metadata": {
  "kernelspec": {
   "display_name": "Python 3",
   "language": "python",
   "name": "python3"
  },
  "language_info": {
   "codemirror_mode": {
    "name": "ipython",
    "version": 3
   },
   "file_extension": ".py",
   "mimetype": "text/x-python",
   "name": "python",
   "nbconvert_exporter": "python",
   "pygments_lexer": "ipython3",
   "version": "3.7.4"
  }
 },
 "nbformat": 4,
 "nbformat_minor": 2
}
