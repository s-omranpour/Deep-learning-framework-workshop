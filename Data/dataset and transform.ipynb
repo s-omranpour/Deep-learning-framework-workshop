{
 "cells": [
  {
   "cell_type": "markdown",
   "metadata": {},
   "source": [
    "## Readings:\n",
    "\n",
    "mastering dataset:\n",
    " - https://pytorch.org/tutorials/beginner/data_loading_tutorial.html\n",
    " - https://pytorch.org/docs/stable/data.html\n",
    " \n",
    "torch datasets:\n",
    " - https://pytorch.org/docs/stable/torchvision/datasets.html\n",
    " - https://pytorch.org/audio/datasets.html\n",
    " \n",
    "transforms:\n",
    " - https://pytorch.org/docs/stable/torchvision/transforms.html\n",
    " - https://pytorch.org/audio/transforms.html"
   ]
  },
  {
   "cell_type": "markdown",
   "metadata": {},
   "source": [
    "## loading packages"
   ]
  },
  {
   "cell_type": "code",
   "execution_count": 37,
   "metadata": {},
   "outputs": [],
   "source": [
    "import torch\n",
    "from torch.utils.data import Dataset, DataLoader, random_split\n",
    "from torchvision import transforms as vt\n",
    "from torchaudio import transforms as at"
   ]
  },
  {
   "cell_type": "markdown",
   "metadata": {},
   "source": [
    "## defining dataset"
   ]
  },
  {
   "cell_type": "code",
   "execution_count": 31,
   "metadata": {},
   "outputs": [],
   "source": [
    "class CustomDataset(Dataset):\n",
    "    def __init__(self, transform):\n",
    "        super(CustomDataset, self).__init__()        ## define dataset attributes here\n",
    "        self.transform = transform\n",
    "        pass\n",
    "        \n",
    "    def __len__(self):          ## length of dataset, number of elements\n",
    "        return 1\n",
    "    \n",
    "    def __getitem__(self, idx):       ## getting an item at specific index\n",
    "        if torch.is_tensor(idx):\n",
    "            idx = idx.tolist()\n",
    "        return 1\n",
    "        \n",
    "        \n",
    "def fn(batch):           ## called by dataloader for each batch\n",
    "    '''normally this function should return tensors'''\n",
    "    for sampe in batch:\n",
    "        pass\n",
    "    return 1"
   ]
  },
  {
   "cell_type": "code",
   "execution_count": 32,
   "metadata": {},
   "outputs": [],
   "source": [
    "dataset = CustomDataset()"
   ]
  },
  {
   "cell_type": "code",
   "execution_count": 13,
   "metadata": {},
   "outputs": [
    {
     "name": "stdout",
     "output_type": "stream",
     "text": [
      "0 1\n"
     ]
    }
   ],
   "source": [
    "n = len(dataset)\n",
    "t = int(0.2*n)\n",
    "print(t,n)"
   ]
  },
  {
   "cell_type": "code",
   "execution_count": 33,
   "metadata": {},
   "outputs": [
    {
     "name": "stdout",
     "output_type": "stream",
     "text": [
      "train: 1 test: 0\n"
     ]
    }
   ],
   "source": [
    "train_data, test_data = random_split(dataset, [n-t, t])\n",
    "print('train:',len(train_data), 'test:', len(test_data))"
   ]
  },
  {
   "cell_type": "code",
   "execution_count": 34,
   "metadata": {},
   "outputs": [],
   "source": [
    "e = dataset[:100]"
   ]
  },
  {
   "cell_type": "code",
   "execution_count": 35,
   "metadata": {},
   "outputs": [],
   "source": [
    "loader = DataLoader(train_data, batch_size=32, shuffle=True, collate_fn=fn, pin_memory=True)\n",
    "\n",
    "'''For data loading, passing pin_memory=True to a DataLoader will automatically\n",
    "put the fetched data Tensors in pinned memory, \n",
    "and thus enables faster data transfer to CUDA-enabled GPUs.'''"
   ]
  },
  {
   "cell_type": "code",
   "execution_count": 36,
   "metadata": {},
   "outputs": [
    {
     "name": "stdout",
     "output_type": "stream",
     "text": [
      "<class 'torch.Tensor'>\n"
     ]
    }
   ],
   "source": [
    "for x in loader:\n",
    "    print(type(x))"
   ]
  },
  {
   "cell_type": "markdown",
   "metadata": {},
   "source": [
    "## transforms"
   ]
  },
  {
   "cell_type": "code",
   "execution_count": null,
   "metadata": {},
   "outputs": [],
   "source": [
    "final_transform = vt.Compose([\n",
    "         transforms.CenterCrop(10),\n",
    "         transforms.ToTensor(),\n",
    "])\n",
    "\n"
   ]
  }
 ],
 "metadata": {
  "kernelspec": {
   "display_name": "Python 3",
   "language": "python",
   "name": "python3"
  },
  "language_info": {
   "codemirror_mode": {
    "name": "ipython",
    "version": 3
   },
   "file_extension": ".py",
   "mimetype": "text/x-python",
   "name": "python",
   "nbconvert_exporter": "python",
   "pygments_lexer": "ipython3",
   "version": "3.7.4"
  }
 },
 "nbformat": 4,
 "nbformat_minor": 2
}
